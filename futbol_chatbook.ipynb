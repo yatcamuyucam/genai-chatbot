{
  "nbformat": 4,
  "nbformat_minor": 0,
  "metadata": {
    "colab": {
      "provenance": [],
      "gpuType": "T4"
    },
    "kernelspec": {
      "name": "python3",
      "display_name": "Python 3"
    },
    "language_info": {
      "name": "python"
    },
    "accelerator": "GPU"
  },
  "cells": [
    {
      "cell_type": "code",
      "execution_count": 44,
      "metadata": {
        "id": "7eIYDhnVZ0xE"
      },
      "outputs": [],
      "source": [
        "# ==============================================================================\n",
        "# HÜCRE 1: Gerekli Kütüphanelerin Kurulumu\n",
        "# ==============================================================================\n",
        "# Projenin çalışması için gerekli olan tüm kütüphaneleri tek bir hücrede topluyoruz.\n",
        "# Bu, projenin bağımlılıklarını en başta net bir şekilde görmemizi sağlar.\n",
        "!pip install --upgrade --quiet langchain langchain-core langchain-community langchain-google-genai google-generativeai chromadb PyMuPDF langchain-text-splitters sentence-transformers"
      ]
    },
    {
      "cell_type": "code",
      "source": [
        "# HÜCRE 2: API Anahtarı ve Ortam Değişkenlerinin Ayarlanması\n",
        "# ==============================================================================\n",
        "import os\n",
        "from google.colab import userdata\n",
        "import google.generativeai as genai\n",
        "\n",
        "# Google Colab'in \"Secrets\" özelliğini kullanarak API anahtarımızı güvenli bir şekilde yüklüyoruz.\n",
        "# Bu yöntem, API anahtarının kod içerisinde görünmesini engelleyerek güvenliği artırır.\n",
        "os.environ['GOOGLE_API_KEY'] = userdata.get('GOOGLE_API_KEY')\n",
        "genai.configure(api_key=os.environ['GOOGLE_API_KEY'])\n",
        "\n",
        "print(\"✅ Google Generative AI API Anahtarı başarıyla ayarlandı!\")"
      ],
      "metadata": {
        "colab": {
          "base_uri": "https://localhost:8080/"
        },
        "id": "ropK8YFBaEZp",
        "outputId": "e121c979-3505-4b2b-ee66-8a55e8aa4373"
      },
      "execution_count": 45,
      "outputs": [
        {
          "output_type": "stream",
          "name": "stdout",
          "text": [
            "✅ Google Generative AI API Anahtarı başarıyla ayarlandı!\n"
          ]
        }
      ]
    },
    {
      "cell_type": "code",
      "source": [
        "# HÜCRE 3: Veri Kaynağının (PDF) Yüklenmesi ve Metin Olarak Okunması\n",
        "# ==============================================================================\n",
        "import requests\n",
        "import fitz  # PyMuPDF kütüphanesi\n",
        "\n",
        "# Bilgi kaynağımız olan TFF'nin 2024-2025 Futbol Oyun Kuralları PDF'inin URL'si.\n",
        "pdf_url = \"https://www.tff.org/Resources/TFF/Documents/MHK/2024-2025/oyun-kurallari.pdf\"\n",
        "\n",
        "print(\"PDF dosyası TFF web sitesinden indiriliyor...\")\n",
        "\n",
        "# requests.get ile PDF dosyasını indiriyoruz.\n",
        "# UYARI: `verify=False` parametresi SSL sertifika kontrolünü devre dışı bırakır.\n",
        "# Bu, TFF sitesinin sertifikasıyla ilgili olası bir sorunu aşmak için kullanılmış olabilir.\n",
        "# Ancak genel projelerde güvenlik açısından önerilmez.\n",
        "response = requests.get(pdf_url, verify=False)\n",
        "\n",
        "# HTTP isteğinin başarılı olup olmadığını kontrol ediyoruz (Status Code 200 = Başarılı).\n",
        "if response.status_code == 200:\n",
        "    # İndirilen içeriği fitz (PyMuPDF) ile bir PDF dökümanı olarak açıyoruz.\n",
        "    pdf_document = fitz.open(stream=response.content, filetype=\"pdf\")\n",
        "\n",
        "    # PDF'in tüm sayfalarındaki metinleri birleştirmek için boş bir string oluşturuyoruz.\n",
        "    pdf_text = \"\"\n",
        "    for page in pdf_document:\n",
        "        pdf_text += page.get_text()\n",
        "\n",
        "    print(f\"✅ PDF metni başarıyla çıkarıldı! Toplam karakter sayısı: {len(pdf_text)}\")\n",
        "else:\n",
        "    print(f\"❌ PDF indirilemedi. Hata kodu: {response.status_code}\")"
      ],
      "metadata": {
        "colab": {
          "base_uri": "https://localhost:8080/"
        },
        "id": "grTT6xkKcFMa",
        "outputId": "e46f8729-2587-4662-ad92-68ca9f29a1f1"
      },
      "execution_count": 46,
      "outputs": [
        {
          "output_type": "stream",
          "name": "stdout",
          "text": [
            "PDF dosyası TFF web sitesinden indiriliyor...\n"
          ]
        },
        {
          "output_type": "stream",
          "name": "stderr",
          "text": [
            "/usr/local/lib/python3.12/dist-packages/urllib3/connectionpool.py:1097: InsecureRequestWarning: Unverified HTTPS request is being made to host 'www.tff.org'. Adding certificate verification is strongly advised. See: https://urllib3.readthedocs.io/en/latest/advanced-usage.html#tls-warnings\n",
            "  warnings.warn(\n"
          ]
        },
        {
          "output_type": "stream",
          "name": "stdout",
          "text": [
            "✅ PDF metni başarıyla çıkarıldı! Toplam karakter sayısı: 195324\n"
          ]
        }
      ]
    },
    {
      "cell_type": "code",
      "source": [
        "# HÜCRE 4: Metnin Anlamlı Parçalara (Chunks) Bölünmesi\n",
        "# ==============================================================================\n",
        "from langchain_text_splitters import RecursiveCharacterTextSplitter\n",
        "\n",
        "# Büyük metinleri, dil modellerinin (LLM) işleyebileceği daha küçük parçalara bölüyoruz.\n",
        "# RecursiveCharacterTextSplitter, metni anlamsal bütünlüğü koruyarak bölmeye çalışır.\n",
        "text_splitter = RecursiveCharacterTextSplitter(\n",
        "    chunk_size=2000,      # Her bir metin parçasının maksimum karakter sayısı.\n",
        "    chunk_overlap=250     # Parçalar arasında anlam bütünlüğünü korumak için bırakılan ortak karakter sayısı.\n",
        ")\n",
        "\n",
        "# Metni, belirlenen kurallara göre belgelere (dökümanlara) ayırıyoruz.\n",
        "docs = text_splitter.create_documents([pdf_text])\n",
        "\n",
        "print(f\"✅ Metin, {len(docs)} adet parçaya bölündü.\")"
      ],
      "metadata": {
        "colab": {
          "base_uri": "https://localhost:8080/"
        },
        "id": "CG9JNhvJcKEB",
        "outputId": "9f721a2d-acb1-4a3d-ffa2-475f540a111e"
      },
      "execution_count": 47,
      "outputs": [
        {
          "output_type": "stream",
          "name": "stdout",
          "text": [
            "✅ Metin, 112 adet parçaya bölündü.\n"
          ]
        }
      ]
    },
    {
      "cell_type": "code",
      "source": [
        "# ==============================================================================\n",
        "# HÜCRE 5: Vektör Veritabanı (Vector Store) Oluşturulması\n",
        "# ==============================================================================\n",
        "from langchain_google_genai import GoogleGenerativeAIEmbeddings\n",
        "from langchain_community.vectorstores import Chroma\n",
        "import shutil\n",
        "import os # os modülünü import ettiğimizden emin olalım\n",
        "\n",
        "# --- 1. Embedding Modelini Yükleme ---\n",
        "# Metin parçalarını anlamsal olarak temsil eden sayısal vektörlere (embeddings) dönüştürecek\n",
        "# olan Google'ın 'text-embedding-004' modelini yüklüyoruz.\n",
        "print(\"Embedding modeli yükleniyor...\")\n",
        "embeddings = GoogleGenerativeAIEmbeddings(model=\"models/text-embedding-004\")\n",
        "print(\"✅ Embedding modeli başarıyla yüklendi.\")\n",
        "\n",
        "\n",
        "# --- 2. Eski Veritabanını Temizleme ve Yeni Dizini Hazırlama ---\n",
        "# YOL GÜNCELLEMESİ: Colab için tam dosya yolu belirterek belirsizliği ortadan kaldırıyoruz.\n",
        "db_directory = \"/content/vektor_veritabani\"\n",
        "\n",
        "# Kod her çalıştığında temiz bir başlangıç yapmak için eski veritabanı klasörünü siliyoruz.\n",
        "if os.path.exists(db_directory):\n",
        "    print(\"\\nÖnceki veritabanı kalıntıları temizleniyor...\")\n",
        "    shutil.rmtree(db_directory)\n",
        "    print(\"✅ Temizlik tamamlandı.\")\n",
        "\n",
        "# EK GÜVENCE: Chroma'ya bırakmadan önce dizinin var olduğundan emin oluyoruz.\n",
        "# Bu adım, olası izin hatalarını önlemeye yardımcı olabilir.\n",
        "os.makedirs(db_directory, exist_ok=True)\n",
        "\n",
        "\n",
        "# --- 3. Yeni Vektör Veritabanını Oluşturma ---\n",
        "# ChromaDB kullanarak, metin parçalarını (docs) embedding modeli ile vektörlere dönüştürüp\n",
        "# kalıcı bir veritabanına kaydediyoruz. Bu, anlamsal arama yapmamızı sağlayacak.\n",
        "print(\"\\nYeni vektör veritabanı oluşturuluyor...\")\n",
        "vector_store = Chroma.from_documents(\n",
        "    documents=docs,\n",
        "    embedding=embeddings,\n",
        "    persist_directory=db_directory  # Güncellenmiş tam yolu kullanıyoruz\n",
        ")\n",
        "print(\"✅ Vektör veritabanı başarıyla oluşturuldu.\")\n",
        "\n",
        "\n",
        "# --- 4. Retriever'ı Yapılandırma ---\n",
        "# Bu veritabanı üzerinde anlamsal arama yapacak olan \"retriever\" objesini oluşturuyoruz.\n",
        "# `k=4` parametresi, bir arama yapıldığında en ilgili 4 metin parçasını getirmesini söyler.\n",
        "retriever = vector_store.as_retriever(\n",
        "    search_type=\"similarity\",\n",
        "    search_kwargs={\"k\": 4}\n",
        ")\n",
        "print(\"\\n✅ Retriever (Bilgi Getirici) başarıyla yapılandırıldı!\")"
      ],
      "metadata": {
        "colab": {
          "base_uri": "https://localhost:8080/"
        },
        "id": "RZ70JNEc_Cuw",
        "outputId": "b96ea0f2-3caa-48e6-e7b2-46fa653975ba"
      },
      "execution_count": 49,
      "outputs": [
        {
          "output_type": "stream",
          "name": "stdout",
          "text": [
            "Embedding modeli yükleniyor...\n",
            "✅ Embedding modeli başarıyla yüklendi.\n",
            "\n",
            "Yeni vektör veritabanı oluşturuluyor...\n",
            "✅ Vektör veritabanı başarıyla oluşturuldu.\n",
            "\n",
            "✅ Retriever (Bilgi Getirici) başarıyla yapılandırıldı!\n"
          ]
        }
      ]
    },
    {
      "cell_type": "code",
      "source": [
        "# HÜCRE 6: LLM ve RAG Zincirinin (Chain) Kurulması\n",
        "# ==============================================================================\n",
        "from langchain_core.prompts import PromptTemplate\n",
        "from langchain_core.runnables import RunnablePassthrough\n",
        "from langchain_core.output_parsers import StrOutputParser\n",
        "from langchain_google_genai import ChatGoogleGenerativeAI\n",
        "\n",
        "print(\"Dil Modeli (LLM) ve RAG zinciri oluşturuluyor...\")\n",
        "\n",
        "# --- 1. Dil Modelini (LLM) Tanımlama ---\n",
        "# Cevapları üretecek olan 'gemini-2.0-flash' modelini belirli parametrelerle yapılandırıyoruz.\n",
        "# temperature: Cevapların ne kadar \"yaratıcı\" olacağını belirler (düşük = daha tutarlı).\n",
        "llm = ChatGoogleGenerativeAI(\n",
        "    model=\"gemini-2.0-flash\",\n",
        "    temperature=0.6,\n",
        "    top_k=40,\n",
        "    max_output_tokens=2048\n",
        ")\n",
        "\n",
        "# --- 2. Prompt Şablonunu Oluşturma ---\n",
        "# LLM'e nasıl davranması gerektiğini, hangi formatta cevap vermesi gerektiğini ve\n",
        "# hangi bilgileri kullanması gerektiğini söyleyen detaylı bir komut (prompt) şablonu.\n",
        "template = \"\"\"\n",
        "# GÖREVİN\n",
        "Sen, Uluslararası Futbol Birliği Kurulu'nun (IFAB) resmi 2024-2025 Futbol Oyun Kuralları kitabısın. Senin tek bilgi kaynağın, sana aşağıda \"EK BİLGİ\" bölümünde verilen metin parçalarıdır. Cevapların net, resmi ve bir kural kitabına yakışır şekilde bilgilendirici olmalıdır.\n",
        "\n",
        "# CEVAP FORMATI\n",
        "1.  **Doğrudan Cevap:** Soruya, kuralın en genel ve özet halini vererek başla.\n",
        "2.  **Kuralın Detayları:** Ardından, \"EK BİLGİ\"deki ilgili maddeleri kullanarak kuralı adım adım ve detaylı bir şekilde açıkla.\n",
        "3.  **Kural Dışı Bilgi:** Eğer \"EK BİLGİ\" içinde sorunun cevabı yoksa, spekülasyon yapma ve kesin bir dille 'Bu konu, sağlanan kural metinlerinde yer almamaktadır.' yanıtını ver.\n",
        "\n",
        "# BİLGİ KAYNAĞI\n",
        "EK BİLGİ:\n",
        "{context}\n",
        "\n",
        "# KULLANICI SORUSU\n",
        "SORU: {question}\n",
        "\n",
        "# DETAYLI CEVAP\n",
        "\"\"\"\n",
        "prompt = PromptTemplate.from_template(template)\n",
        "\n",
        "# --- 3. RAG Zincirini Kurma (LCEL ile) ---\n",
        "# LangChain Expression Language (LCEL) kullanarak tüm adımları birbirine bağlıyoruz.\n",
        "# 1. Kullanıcının sorusu retriever'a gider ve ilgili metin parçaları (context) bulunur.\n",
        "# 2. Bulunan context ve orijinal soru, prompt şablonuna yerleştirilir.\n",
        "# 3. Hazırlanan bu tam prompt, LLM'e gönderilir.\n",
        "# 4. LLM'den gelen cevap, StrOutputParser ile temiz bir metin olarak çıkarılır.\n",
        "rag_chain = (\n",
        "    {\"context\": retriever, \"question\": RunnablePassthrough()}\n",
        "    | prompt\n",
        "    | llm\n",
        "    | StrOutputParser()\n",
        ")\n",
        "\n",
        "print(\"✅ RAG Zinciri başarıyla oluşturuldu!\")"
      ],
      "metadata": {
        "colab": {
          "base_uri": "https://localhost:8080/"
        },
        "id": "zlVLnXz7disN",
        "outputId": "9a0c2f5f-86b4-4e2e-c3f7-dae56bd6e5ac"
      },
      "execution_count": 50,
      "outputs": [
        {
          "output_type": "stream",
          "name": "stdout",
          "text": [
            "Dil Modeli (LLM) ve RAG zinciri oluşturuluyor...\n",
            "✅ RAG Zinciri başarıyla oluşturuldu!\n"
          ]
        }
      ]
    },
    {
      "cell_type": "code",
      "source": [
        "# Oluşturduğumuz RAG zincirine sorumuzu sorarak sistemi test ediyoruz.\n",
        "soru = \"Oyundan ihraç edilmek nedir\"\n",
        "\n",
        "# `invoke` metodu ile zinciri çalıştırıyoruz.\n",
        "cevap = rag_chain.invoke(soru)\n",
        "\n",
        "# Sonucu ekrana yazdırıyoruz.\n",
        "print(f\"Soru: {soru}\\n\")\n",
        "print(f\"Cevap:\\n{cevap}\")"
      ],
      "metadata": {
        "colab": {
          "base_uri": "https://localhost:8080/"
        },
        "id": "iIZKSBQ5d5m4",
        "outputId": "27e0baee-3eda-4502-dfa1-e131556f4a58"
      },
      "execution_count": 51,
      "outputs": [
        {
          "output_type": "stream",
          "name": "stdout",
          "text": [
            "Soru: Oyundan ihraç edilmek nedir\n",
            "\n",
            "Cevap:\n",
            "1.  **Doğrudan Cevap:** Oyundan ihraç edilmek, bir oyuncunun belirli ihlallerde bulunması durumunda oyundan çıkarılmasıdır.\n",
            "\n",
            "2.  **Kuralın Detayları:**\n",
            "\n",
            "Bir oyuncu, yedek oyuncu veya değiştirilmiş oyuncu, aşağıdaki ihlallerden birini yaparsa oyundan ihraç edilir:\n",
            "\n",
            "*   Kasten topla elle oynama ihlaliyle rakip takımın bir golünü veya bariz gol atma şansını önlemek (kendi takımının ceza alanındaki kaleci hariç)\n",
            "*   Kendi ceza alanı dışında kasıtlı olmayan elle oynama ihlali yaparak rakip takımın bir golünü veya bariz gol atma şansını engellemek\n",
            "*   genel hareketlenmesi ihlali yapan oyuncunun kalesine doğru olan rakip oyuncunun bir golünü veya bariz gol atma şansını serbest vuruşla cezalandırılması gereken bir ihlal ile önlemek (aşağıda belirtilen durumlar hariç)\n",
            "*   ciddi faullü oyun\n",
            "*   birini ısırmak veya birine tükürmek\n",
            "*   şiddetli hareket\n",
            "*   saldırgan, hakaret edici veya küfürlü bir şekilde konuşmak ve/veya hareket(ler)de bulunmak\n",
            "*   aynı maçta ikinci bir ihtar almak\n",
            "*   video operasyon odasına (VOR) girmek\n",
            "\n",
            "İhraç edilen oyuncu, yedek oyuncu ya da değiştirilmiş oyuncu oyun alanının çevresini ve teknik alanı terk etmelidir.\n"
          ]
        }
      ]
    },
    {
      "cell_type": "code",
      "source": [
        "!pip freeze > requirements.txt"
      ],
      "metadata": {
        "id": "hdCQiyeYgc9s"
      },
      "execution_count": 52,
      "outputs": []
    },
    {
      "cell_type": "code",
      "source": [],
      "metadata": {
        "id": "TV_XvFtfquBh"
      },
      "execution_count": null,
      "outputs": []
    }
  ]
}